{
 "cells": [
  {
   "cell_type": "code",
   "execution_count": 1,
   "id": "e9a8378c",
   "metadata": {},
   "outputs": [
    {
     "name": "stdout",
     "output_type": "stream",
     "text": [
      "Requirement already satisfied: lazypredict in c:\\users\\gustavo\\appdata\\roaming\\python\\python38\\site-packages (0.2.9)\n",
      "Requirement already satisfied: numpy==1.19.1 in c:\\users\\gustavo\\anaconda3\\lib\\site-packages (from lazypredict) (1.19.1)\n",
      "Requirement already satisfied: click==7.1.2 in c:\\users\\gustavo\\anaconda3\\lib\\site-packages (from lazypredict) (7.1.2)\n",
      "Requirement already satisfied: joblib==1.0.0 in c:\\users\\gustavo\\anaconda3\\lib\\site-packages (from lazypredict) (1.0.0)\n",
      "Requirement already satisfied: scikit-learn==0.23.1 in c:\\users\\gustavo\\anaconda3\\lib\\site-packages (from lazypredict) (0.23.1)\n",
      "Requirement already satisfied: tqdm==4.56.0 in c:\\users\\gustavo\\anaconda3\\lib\\site-packages (from lazypredict) (4.56.0)\n",
      "Requirement already satisfied: scipy==1.5.4 in c:\\users\\gustavo\\anaconda3\\lib\\site-packages (from lazypredict) (1.5.4)\n",
      "Requirement already satisfied: lightgbm==2.3.1 in c:\\users\\gustavo\\appdata\\roaming\\python\\python38\\site-packages (from lazypredict) (2.3.1)\n",
      "Requirement already satisfied: xgboost==1.1.1 in c:\\users\\gustavo\\anaconda3\\lib\\site-packages (from lazypredict) (1.1.1)\n",
      "Requirement already satisfied: pandas==1.0.5 in c:\\users\\gustavo\\anaconda3\\lib\\site-packages (from lazypredict) (1.0.5)\n",
      "Requirement already satisfied: six==1.15.0 in c:\\users\\gustavo\\anaconda3\\lib\\site-packages (from lazypredict) (1.15.0)\n",
      "Requirement already satisfied: pytest==5.4.3 in c:\\users\\gustavo\\anaconda3\\lib\\site-packages (from lazypredict) (5.4.3)\n",
      "Requirement already satisfied: PyYAML==5.3.1 in c:\\users\\gustavo\\anaconda3\\lib\\site-packages (from lazypredict) (5.3.1)\n",
      "Requirement already satisfied: python-dateutil>=2.6.1 in c:\\users\\gustavo\\anaconda3\\lib\\site-packages (from pandas==1.0.5->lazypredict) (2.8.1)\n",
      "Requirement already satisfied: pytz>=2017.2 in c:\\users\\gustavo\\anaconda3\\lib\\site-packages (from pandas==1.0.5->lazypredict) (2021.1)\n",
      "Requirement already satisfied: pluggy<1.0,>=0.12 in c:\\users\\gustavo\\anaconda3\\lib\\site-packages (from pytest==5.4.3->lazypredict) (0.13.1)\n",
      "Requirement already satisfied: colorama in c:\\users\\gustavo\\anaconda3\\lib\\site-packages (from pytest==5.4.3->lazypredict) (0.4.4)\n",
      "Requirement already satisfied: packaging in c:\\users\\gustavo\\anaconda3\\lib\\site-packages (from pytest==5.4.3->lazypredict) (20.9)\n",
      "Requirement already satisfied: more-itertools>=4.0.0 in c:\\users\\gustavo\\anaconda3\\lib\\site-packages (from pytest==5.4.3->lazypredict) (8.7.0)\n",
      "Requirement already satisfied: atomicwrites>=1.0 in c:\\users\\gustavo\\anaconda3\\lib\\site-packages (from pytest==5.4.3->lazypredict) (1.4.0)\n",
      "Requirement already satisfied: py>=1.5.0 in c:\\users\\gustavo\\anaconda3\\lib\\site-packages (from pytest==5.4.3->lazypredict) (1.10.0)\n",
      "Requirement already satisfied: wcwidth in c:\\users\\gustavo\\anaconda3\\lib\\site-packages (from pytest==5.4.3->lazypredict) (0.2.5)\n",
      "Requirement already satisfied: attrs>=17.4.0 in c:\\users\\gustavo\\anaconda3\\lib\\site-packages (from pytest==5.4.3->lazypredict) (20.3.0)\n",
      "Requirement already satisfied: threadpoolctl>=2.0.0 in c:\\users\\gustavo\\anaconda3\\lib\\site-packages (from scikit-learn==0.23.1->lazypredict) (2.1.0)\n",
      "Requirement already satisfied: pyparsing>=2.0.2 in c:\\users\\gustavo\\anaconda3\\lib\\site-packages (from packaging->pytest==5.4.3->lazypredict) (2.4.7)\n",
      "Note: you may need to restart the kernel to use updated packages.\n"
     ]
    }
   ],
   "source": [
    "pip install lazypredict"
   ]
  },
  {
   "cell_type": "code",
   "execution_count": 3,
   "id": "ff127299",
   "metadata": {},
   "outputs": [],
   "source": [
    "import lazypredict\n",
    "import pandas as pd\n",
    "import seaborn as sns\n",
    "import numpy as np\n",
    "import matplotlib.pyplot as plt\n",
    "from sklearn.impute import SimpleImputer\n",
    "from sklearn.ensemble import RandomForestRegressor, GradientBoostingRegressor, ExtraTreesRegressor"
   ]
  },
  {
   "cell_type": "code",
   "execution_count": null,
   "id": "54d5ffd9",
   "metadata": {},
   "outputs": [],
   "source": []
  }
 ],
 "metadata": {
  "kernelspec": {
   "display_name": "Python 3",
   "language": "python",
   "name": "python3"
  },
  "language_info": {
   "codemirror_mode": {
    "name": "ipython",
    "version": 3
   },
   "file_extension": ".py",
   "mimetype": "text/x-python",
   "name": "python",
   "nbconvert_exporter": "python",
   "pygments_lexer": "ipython3",
   "version": "3.8.8"
  }
 },
 "nbformat": 4,
 "nbformat_minor": 5
}
